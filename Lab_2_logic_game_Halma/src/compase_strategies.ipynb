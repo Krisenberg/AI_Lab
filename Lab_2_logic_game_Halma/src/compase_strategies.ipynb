{
 "cells": [
  {
   "cell_type": "code",
   "execution_count": null,
   "metadata": {},
   "outputs": [],
   "source": [
    "from strategy import GameStrategy, PlayerStrategy\n",
    "from run import run_game\n",
    "\n",
    "init_game_state_filename = 'initial_state.txt'\n",
    "S1_max_conquer_diagonal_end = GameStrategy(True, PlayerStrategy.EARLY_GAME_CONQUER_CENTER, PlayerStrategy.MIDDLE_GAME_MOVE_DIAGONAL, PlayerStrategy.END_GAME_FILL_FROM_END)\n",
    "S2_max_conquer_diagonal_other = GameStrategy(True, PlayerStrategy.EARLY_GAME_CONQUER_CENTER, PlayerStrategy.MIDDLE_GAME_MOVE_DIAGONAL, PlayerStrategy.END_GAME_FILL_EVERY_OTHER)\n",
    "S3_max_conquer_control_end = GameStrategy(True, PlayerStrategy.EARLY_GAME_CONQUER_CENTER, PlayerStrategy.MIDDLE_GAME_CONTROL_PAWNS, PlayerStrategy.END_GAME_FILL_FROM_END)\n",
    "S4_max_conquer_control_other = GameStrategy(True, PlayerStrategy.EARLY_GAME_CONQUER_CENTER, PlayerStrategy.MIDDLE_GAME_CONTROL_PAWNS, PlayerStrategy.END_GAME_FILL_EVERY_OTHER)\n",
    "S5_max_obstacle_diagonal_end = GameStrategy(True, PlayerStrategy.EARLY_GAME_FORM_OBSTACLE, PlayerStrategy.MIDDLE_GAME_MOVE_DIAGONAL, PlayerStrategy.END_GAME_FILL_FROM_END)\n",
    "S6_max_obstacle_diagonal_other = GameStrategy(True, PlayerStrategy.EARLY_GAME_FORM_OBSTACLE, PlayerStrategy.MIDDLE_GAME_MOVE_DIAGONAL, PlayerStrategy.END_GAME_FILL_EVERY_OTHER)\n",
    "S7_max_obstacle_control_end = GameStrategy(True, PlayerStrategy.EARLY_GAME_FORM_OBSTACLE, PlayerStrategy.MIDDLE_GAME_CONTROL_PAWNS, PlayerStrategy.END_GAME_FILL_FROM_END)\n",
    "S8_max_obstacle_control_other = GameStrategy(True, PlayerStrategy.EARLY_GAME_FORM_OBSTACLE, PlayerStrategy.MIDDLE_GAME_CONTROL_PAWNS, PlayerStrategy.END_GAME_FILL_EVERY_OTHER)\n",
    "\n",
    "S1_min_conquer_diagonal_end = GameStrategy(False, PlayerStrategy.EARLY_GAME_CONQUER_CENTER, PlayerStrategy.MIDDLE_GAME_MOVE_DIAGONAL, PlayerStrategy.END_GAME_FILL_FROM_END)\n",
    "S2_min_conquer_diagonal_other = GameStrategy(False, PlayerStrategy.EARLY_GAME_CONQUER_CENTER, PlayerStrategy.MIDDLE_GAME_MOVE_DIAGONAL, PlayerStrategy.END_GAME_FILL_EVERY_OTHER)\n",
    "S3_min_conquer_control_end = GameStrategy(False, PlayerStrategy.EARLY_GAME_CONQUER_CENTER, PlayerStrategy.MIDDLE_GAME_CONTROL_PAWNS, PlayerStrategy.END_GAME_FILL_FROM_END)\n",
    "S4_min_conquer_control_other = GameStrategy(False, PlayerStrategy.EARLY_GAME_CONQUER_CENTER, PlayerStrategy.MIDDLE_GAME_CONTROL_PAWNS, PlayerStrategy.END_GAME_FILL_EVERY_OTHER)\n",
    "S5_min_obstacle_diagonal_end = GameStrategy(False, PlayerStrategy.EARLY_GAME_FORM_OBSTACLE, PlayerStrategy.MIDDLE_GAME_MOVE_DIAGONAL, PlayerStrategy.END_GAME_FILL_FROM_END)\n",
    "S6_min_obstacle_diagonal_other = GameStrategy(False, PlayerStrategy.EARLY_GAME_FORM_OBSTACLE, PlayerStrategy.MIDDLE_GAME_MOVE_DIAGONAL, PlayerStrategy.END_GAME_FILL_EVERY_OTHER)\n",
    "S7_min_obstacle_control_end = GameStrategy(False, PlayerStrategy.EARLY_GAME_FORM_OBSTACLE, PlayerStrategy.MIDDLE_GAME_CONTROL_PAWNS, PlayerStrategy.END_GAME_FILL_FROM_END)\n",
    "S8_min_obstacle_control_other = GameStrategy(False, PlayerStrategy.EARLY_GAME_FORM_OBSTACLE, PlayerStrategy.MIDDLE_GAME_CONTROL_PAWNS, PlayerStrategy.END_GAME_FILL_EVERY_OTHER)"
   ]
  },
  {
   "cell_type": "code",
   "execution_count": null,
   "metadata": {},
   "outputs": [],
   "source": [
    "game_result_S1_S1 = run_game(init_game_state_filename, S1_max_conquer_diagonal_end, S1_min_conquer_diagonal_end, 3)"
   ]
  },
  {
   "cell_type": "code",
   "execution_count": null,
   "metadata": {},
   "outputs": [],
   "source": [
    "game_result_S1_S2 = run_game(init_game_state_filename, S1_max_conquer_diagonal_end, S2_min_conquer_diagonal_other, 3)"
   ]
  },
  {
   "cell_type": "code",
   "execution_count": null,
   "metadata": {},
   "outputs": [],
   "source": [
    "game_result_S1_S3 = run_game(init_game_state_filename, S1_max_conquer_diagonal_end, S3_min_conquer_control_end, 3)"
   ]
  },
  {
   "cell_type": "code",
   "execution_count": null,
   "metadata": {},
   "outputs": [],
   "source": [
    "game_result_S1_S4 = run_game(init_game_state_filename, S1_max_conquer_diagonal_end, S4_min_conquer_control_other, 3)"
   ]
  },
  {
   "cell_type": "code",
   "execution_count": null,
   "metadata": {},
   "outputs": [],
   "source": [
    "game_result_S1_S5 = run_game(init_game_state_filename, S1_max_conquer_diagonal_end, S5_min_obstacle_diagonal_end, 3)"
   ]
  },
  {
   "cell_type": "code",
   "execution_count": null,
   "metadata": {},
   "outputs": [],
   "source": [
    "game_result_S1_S6 = run_game(init_game_state_filename, S1_max_conquer_diagonal_end, S6_min_obstacle_diagonal_other, 3)"
   ]
  },
  {
   "cell_type": "code",
   "execution_count": null,
   "metadata": {},
   "outputs": [],
   "source": [
    "game_result_S1_S7 = run_game(init_game_state_filename, S1_max_conquer_diagonal_end, S7_min_obstacle_control_end, 3)"
   ]
  },
  {
   "cell_type": "code",
   "execution_count": null,
   "metadata": {},
   "outputs": [],
   "source": [
    "game_result_S1_S8 = run_game(init_game_state_filename, S1_max_conquer_diagonal_end, S8_min_obstacle_control_other, 3)"
   ]
  },
  {
   "cell_type": "code",
   "execution_count": null,
   "metadata": {},
   "outputs": [],
   "source": [
    "import matplotlib.pyplot as plt\n",
    "import numpy as np\n",
    "from halma import check_board_for_win\n",
    "\n",
    "# TODO: Add some charts or some kind of comparison between strategies\n",
    "\n",
    "games = [game_result_S1_S1, game_result_S1_S2, game_result_S1_S3, game_result_S1_S4,\n",
    "         game_result_S1_S5, game_result_S1_S6, game_result_S1_S7, game_result_S1_S8]\n",
    "\n",
    "wins = 0\n",
    "nodes_count = 0\n",
    "time = 0\n",
    "turns = 0\n",
    "\n",
    "strategies = ['strat_S1_S1', 'strat_S1_S2', 'strat_S1_S3', 'strat_S1_S4',\n",
    "              'strat_S1_S5', 'strat_S1_S6', 'strat_S1_S7', 'strat_S1_S8']\n",
    "for i, game in enumerate(games):\n",
    "    wins += 1 if check_board_for_win(game.game_state)==1 else 0\n",
    "    nodes_count += sum(game.max_player_visited_nodes.values())\n",
    "    time += sum(game.max_player_move_time.values())\n",
    "    turns += game.turn_number\n"
   ]
  }
 ],
 "metadata": {
  "kernelspec": {
   "display_name": "Python 3",
   "language": "python",
   "name": "python3"
  },
  "language_info": {
   "codemirror_mode": {
    "name": "ipython",
    "version": 3
   },
   "file_extension": ".py",
   "mimetype": "text/x-python",
   "name": "python",
   "nbconvert_exporter": "python",
   "pygments_lexer": "ipython3",
   "version": "3.12.3"
  }
 },
 "nbformat": 4,
 "nbformat_minor": 2
}
