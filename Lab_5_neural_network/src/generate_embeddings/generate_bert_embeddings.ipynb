{
  "cells": [
    {
      "cell_type": "markdown",
      "metadata": {
        "id": "kbT6CaFYXNzT"
      },
      "source": [
        "<h3>Install necessary package</h3>"
      ]
    },
    {
      "cell_type": "code",
      "execution_count": null,
      "metadata": {
        "colab": {
          "base_uri": "https://localhost:8080/"
        },
        "id": "E2GisfgzT1a4",
        "outputId": "3f251448-8e34-4256-e18b-59496efe0d93"
      },
      "outputs": [],
      "source": [
        "%pip install sentence_transformers"
      ]
    },
    {
      "cell_type": "markdown",
      "metadata": {
        "id": "mZy9E3nJXVWT"
      },
      "source": [
        "<h3>Import class from the installed package</h3>"
      ]
    },
    {
      "cell_type": "code",
      "execution_count": null,
      "metadata": {
        "id": "neiPf_AhSvQu"
      },
      "outputs": [],
      "source": [
        "from sentence_transformers import SentenceTransformer"
      ]
    },
    {
      "cell_type": "markdown",
      "metadata": {
        "id": "Qi3scihVXcI5"
      },
      "source": [
        "<h3>Download BERT model</h3>"
      ]
    },
    {
      "cell_type": "code",
      "execution_count": null,
      "metadata": {
        "colab": {
          "base_uri": "https://localhost:8080/"
        },
        "id": "7WLwyZEeUGGT",
        "outputId": "288ca7e7-8cb1-48be-a86b-5d24fda56053"
      },
      "outputs": [],
      "source": [
        "model = SentenceTransformer('bert-base-cased')"
      ]
    },
    {
      "cell_type": "markdown",
      "metadata": {
        "id": "GHau-0a2XmnX"
      },
      "source": [
        "<h3>Generate embeddings for the specified list of texts</h3>"
      ]
    },
    {
      "cell_type": "code",
      "execution_count": null,
      "metadata": {
        "colab": {
          "base_uri": "https://localhost:8080/"
        },
        "id": "syWVnL4AUOJQ",
        "outputId": "9ce500c8-1f49-44a0-ec45-673a5fd31709"
      },
      "outputs": [],
      "source": [
        "texts_list = [\"Hello, my dog is cute.\", \"I love Artificial Intelligence. Machine Learning is my passion!\"]\n",
        "\n",
        "embeddings = model.encode(texts_list)\n",
        "\n",
        "embeddings.shape"
      ]
    }
  ],
  "metadata": {
    "colab": {
      "provenance": []
    },
    "kernelspec": {
      "display_name": "Python 3",
      "name": "python3"
    },
    "language_info": {
      "codemirror_mode": {
        "name": "ipython",
        "version": 3
      },
      "file_extension": ".py",
      "mimetype": "text/x-python",
      "name": "python",
      "nbconvert_exporter": "python",
      "pygments_lexer": "ipython3",
      "version": "3.12.3"
    }
  },
  "nbformat": 4,
  "nbformat_minor": 0
}
