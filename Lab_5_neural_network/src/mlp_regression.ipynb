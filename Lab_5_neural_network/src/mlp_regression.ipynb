{
 "cells": [
  {
   "cell_type": "markdown",
   "metadata": {},
   "source": [
    "### Import modules"
   ]
  },
  {
   "cell_type": "code",
   "execution_count": 16,
   "metadata": {},
   "outputs": [],
   "source": [
    "import pandas as pd\n",
    "import numpy as np\n",
    "import matplotlib.pyplot as plt\n",
    "import itertools\n",
    "\n",
    "from tqdm import tqdm, trange\n",
    "\n",
    "import fasttext\n",
    "from sentence_transformers import SentenceTransformer\n",
    "\n",
    "from bs4 import BeautifulSoup\n",
    "from sklearn.model_selection import train_test_split\n",
    "from sklearn.metrics import mean_squared_error\n",
    "from sklearn.neural_network import MLPRegressor"
   ]
  },
  {
   "cell_type": "markdown",
   "metadata": {},
   "source": [
    "### Load jokes' ratings"
   ]
  },
  {
   "cell_type": "code",
   "execution_count": 8,
   "metadata": {},
   "outputs": [
    {
     "name": "stdout",
     "output_type": "stream",
     "text": [
      "First 10 rows of the DataFrame:\n",
      "    1     2     3     4     5     6     7     8     9     10   ...   91   \\\n",
      "0 -7.82  8.79 -9.66 -8.16 -7.52 -8.50 -9.85  4.17 -8.98 -4.76  ...  2.82   \n",
      "1  4.08 -0.29  6.36  4.37 -2.38 -9.66 -0.73 -5.34  8.88  9.22  ...  2.82   \n",
      "2   NaN   NaN   NaN   NaN  9.03  9.27  9.03  9.27   NaN   NaN  ...   NaN   \n",
      "3   NaN  8.35   NaN   NaN  1.80  8.16 -2.82  6.21   NaN  1.84  ...   NaN   \n",
      "4  8.50  4.61 -4.17 -5.39  1.36  1.60  7.04  4.61 -0.44  5.73  ...  5.19   \n",
      "5 -6.17 -3.54  0.44 -8.50 -7.09 -4.32 -8.69 -0.87 -6.65 -1.80  ... -3.54   \n",
      "6   NaN   NaN   NaN   NaN  8.59 -9.85  7.72  8.79   NaN   NaN  ...   NaN   \n",
      "7  6.84  3.16  9.17 -6.21 -8.16 -1.70  9.27  1.41 -5.19 -4.42  ...  7.23   \n",
      "8 -3.79 -3.54 -9.42 -6.89 -8.74 -0.29 -5.29 -8.93 -7.86 -1.60  ...  4.37   \n",
      "9  3.01  5.15  5.15  3.01  6.41  5.15  8.93  2.52  3.01  8.16  ...   NaN   \n",
      "\n",
      "    92    93    94    95    96    97    98    99    100  \n",
      "0   NaN   NaN   NaN   NaN   NaN -5.63   NaN   NaN   NaN  \n",
      "1 -4.95 -0.29  7.86 -0.19 -2.14  3.06  0.34 -4.32  1.07  \n",
      "2   NaN   NaN  9.08   NaN   NaN   NaN   NaN   NaN   NaN  \n",
      "3   NaN   NaN  0.53   NaN   NaN   NaN   NaN   NaN   NaN  \n",
      "4  5.58  4.27  5.19  5.73  1.55  3.11  6.55  1.80  1.60  \n",
      "5 -6.89 -0.68 -2.96 -2.18 -3.35  0.05 -9.08 -5.05 -3.45  \n",
      "6   NaN   NaN   NaN   NaN  2.33   NaN   NaN   NaN   NaN  \n",
      "7 -1.12 -0.10 -5.68 -3.16 -3.35  2.14 -0.05  1.31  0.00  \n",
      "8 -0.29  4.17 -0.29 -0.29 -0.29 -0.29 -0.29 -3.40 -4.95  \n",
      "9  4.47   NaN   NaN   NaN   NaN   NaN   NaN   NaN   NaN  \n",
      "\n",
      "[10 rows x 100 columns]\n",
      "\n",
      "Shape of the DataFrame:\n",
      "(73421, 100)\n"
     ]
    }
   ],
   "source": [
    "# Load and combine (concat) ratings from 3 different files\n",
    "Y = pd.concat(pd.read_excel(f\"../data/jokes_ratings_{i}.xls\", header=None) for i in range(1, 4))\n",
    "\n",
    "# Take all rows and all columns starting from the second one (first one gives the number of jokes rated by that user) and convert each `99` value to `NaN` because the value `99` corresponds to \"null\" = \"not rated\"\n",
    "Y = Y.iloc[:, 1:].replace(99, float(\"NaN\"))\n",
    "\n",
    "# Print the first 10 rows of the dataframe\n",
    "print(\"First 10 rows of the DataFrame:\")\n",
    "print(Y.head(10))\n",
    "\n",
    "# Print the shape of the dataframe\n",
    "print(\"\\nShape of the DataFrame:\")\n",
    "print(Y.shape)"
   ]
  },
  {
   "cell_type": "markdown",
   "metadata": {},
   "source": [
    "### Calculate mean rating for each joke"
   ]
  },
  {
   "cell_type": "code",
   "execution_count": 9,
   "metadata": {},
   "outputs": [
    {
     "name": "stdout",
     "output_type": "stream",
     "text": [
      "DataFrame description:\n",
      "count    100.000000\n",
      "mean       0.702018\n",
      "std        1.490444\n",
      "min       -3.704541\n",
      "25%       -0.416897\n",
      "50%        0.996985\n",
      "75%        1.793516\n",
      "max        3.362593\n",
      "dtype: float64\n",
      "Head of the DataFrame:\n",
      "1    0.901997\n",
      "2    0.162989\n",
      "3    0.193411\n",
      "4   -1.412599\n",
      "5    0.235352\n",
      "dtype: float64\n",
      "\n",
      "Shape of the DataFrame:\n",
      "(100,)\n"
     ]
    }
   ],
   "source": [
    "Y = Y.mean()\n",
    "\n",
    "# Describe converted dataframe\n",
    "print(\"DataFrame description:\")\n",
    "print(Y.describe())\n",
    "\n",
    "# Print the head of the dataframe\n",
    "print(\"\\nHead of the DataFrame:\")\n",
    "print(Y.head())\n",
    "\n",
    "# Print the shape of the dataframe\n",
    "print(\"\\nShape of the DataFrame:\")\n",
    "print(Y.shape)"
   ]
  },
  {
   "cell_type": "markdown",
   "metadata": {},
   "source": [
    "### Load jokes from html files"
   ]
  },
  {
   "cell_type": "code",
   "execution_count": 23,
   "metadata": {},
   "outputs": [],
   "source": [
    "jokes = []\n",
    "\n",
    "for i in range(1, 101):\n",
    "    with open(f\"../data/jokes/init{i}.html\", \"r\") as file:\n",
    "        soup = BeautifulSoup(file.read(), 'html.parser')\n",
    "        extracted_text = ' '.join(itertools.islice(soup.stripped_strings, 1, None))\n",
    "        text_no_long_whitespaces = ' '.join(extracted_text.split())\n",
    "        final_joke = text_no_long_whitespaces.replace('Q.', '').replace('A.', '')\n",
    "        jokes.append(final_joke.strip())"
   ]
  },
  {
   "cell_type": "code",
   "execution_count": 24,
   "metadata": {},
   "outputs": [
    {
     "name": "stdout",
     "output_type": "stream",
     "text": [
      "Example jokes:\n",
      "[0] : A man visits the doctor. The doctor says \"I have bad news for you.You have cancer and Alzheimer's disease\". The man replies \"Well,thank God I don't have cancer!\"\n",
      "[1] : This couple had an excellent relationship going until one day he came home from work to find his girlfriend packing. He asked her why she was leaving him and she told him that she had heard awful things about him. \"What could they possibly have said to make you move out?\" \"They told me that you were a pedophile.\" He replied, \"That's an awfully big word for a ten year old.\"\n",
      "[2] : What's 200 feet long and has 4 teeth?  The front row at a Willie Nelson Concert.\n",
      "[3] : What's the difference between a man and a toilet?  A toilet doesn't follow you around after you use it.\n",
      "[4] : What's O. J. Simpson's Internet address?  Slash, slash, backslash, slash, slash, escape.\n",
      "[5] : Bill & Hillary are on a trip back to Arkansas. They're almost out of gas, so Bill pulls into a service station on the outskirts of town. The attendant runs out of the station to serve them when Hillary realizes it's an old boyfriend from high school. She and the attendant chat as he gases up their car and cleans the windows. Then they all say good-bye. As Bill pulls the car onto the road, he turns to Hillary and says, 'Now aren't you glad you married me and not him ? You could've been the wife of a grease monkey !' To which Hillary replied, 'No, Bill. If I would have married him, you'd be pumping gas and he would be the President !'\n",
      "[6] : How many feminists does it take to screw in a light bulb? That's not funny.\n",
      "[7] : Did you hear about the dyslexic devil worshiper?  He sold his soul to Santa.\n",
      "[8] : A country guy goes into a city bar that has a dress code, and the maitre d' demands he wear a tie. Discouraged, the guy goes to his car to sulk when inspiration strikes: He's got jumper cables in the trunk! So he wraps them around his neck, sort of like a string tie (a bulky string tie to be sure) and returns to the bar. The maitre d' is reluctant, but says to the guy, \"Okay, you're a pretty resourceful fellow, you can come in... but just don't start anything\"!\n",
      "[9] : Two cannibals are eating a clown, one turns to other and says: \"Does this taste funny to you?\n"
     ]
    }
   ],
   "source": [
    "print(\"Example jokes:\")\n",
    "\n",
    "for i, joke in enumerate(jokes[:10]):\n",
    "    print(f\"[{i}] : {joke}\")"
   ]
  }
 ],
 "metadata": {
  "kernelspec": {
   "display_name": ".venv",
   "language": "python",
   "name": "python3"
  },
  "language_info": {
   "codemirror_mode": {
    "name": "ipython",
    "version": 3
   },
   "file_extension": ".py",
   "mimetype": "text/x-python",
   "name": "python",
   "nbconvert_exporter": "python",
   "pygments_lexer": "ipython3",
   "version": "3.12.3"
  }
 },
 "nbformat": 4,
 "nbformat_minor": 2
}
